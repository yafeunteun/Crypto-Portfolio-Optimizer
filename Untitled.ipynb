{
 "cells": [
  {
   "cell_type": "code",
   "execution_count": 1,
   "metadata": {},
   "outputs": [],
   "source": [
    "import os\n",
    "import pandas as pd\n",
    "import matplotlib.pyplot as plt \n",
    "import numpy as np\n",
    "import datetime as dt\n",
    "import scipy.optimize as spo"
   ]
  },
  {
   "cell_type": "code",
   "execution_count": null,
   "metadata": {},
   "outputs": [],
   "source": []
  },
  {
   "cell_type": "code",
   "execution_count": null,
   "metadata": {},
   "outputs": [],
   "source": []
  },
  {
   "cell_type": "markdown",
   "metadata": {},
   "source": [
    "# Utility functions"
   ]
  },
  {
   "cell_type": "code",
   "execution_count": 4,
   "metadata": {},
   "outputs": [],
   "source": [
    "def symbol_to_path(symbol, base_dir=\"data\"):\n",
    "    \"\"\"Return CSV file path given ticker symbol\"\"\"\n",
    "    return os.path.join(base_dir, \"{}.csv\".format(str(symbol)))"
   ]
  },
  {
   "cell_type": "code",
   "execution_count": 11,
   "metadata": {},
   "outputs": [],
   "source": [
    "def get_data(syms, dates, drop_ref=False):\n",
    "    \"\"\"Read stock data (adjusted close) for given symbols from CSV files.\"\"\"\n",
    "    df = pd.DataFrame(index=dates)\n",
    "    # Make a copy of syms input argument to prevent modifying it\n",
    "    symbols = [s for s in syms]\n",
    "    if 'SPY' not in symbols: # add SPY for reference, if absent\n",
    "        symbols.insert(0, 'SPY')\n",
    "\n",
    "    for symbol in symbols:\n",
    "        # Read and join data for each symbol\n",
    "        dfTemp = pd.read_csv(symbol_to_path(symbol, \"./data\"), index_col = 'Date', parse_dates=True, usecols = [\"Date\", \"Adj Close\"], na_values=['nan'])\n",
    "\n",
    "        # Rename 'Adj Close' to prevent clash\n",
    "        dfTemp = dfTemp.rename(columns={'Adj Close':symbol})\n",
    "        # Join the two dataframes using DataFrame.join()\n",
    "        df = df.join(dfTemp)\n",
    "        if symbol == \"SPY\": # Drop dates SPY did not trade\n",
    "            df = df.dropna(subset=['SPY'])\n",
    "\n",
    "    # drop SPY column if specified\n",
    "    if drop_ref : \n",
    "        del df['SPY']\n",
    "            \n",
    "    return df"
   ]
  },
  {
   "cell_type": "code",
   "execution_count": 15,
   "metadata": {},
   "outputs": [],
   "source": [
    "def plot_data(df, title=\"Stock prices\", ylabel=\"Price\"):\n",
    "    \"\"\"Plot stock prices\"\"\"\n",
    "    ax = df.plot(title=title)\n",
    "    ax.set_xlabel(\"Date\")\n",
    "    ax.set_ylabel(ylabel)\n",
    "    plt.show() # Must be called to show plots in some environments\n",
    "\n",
    "def plot_selected(df, columns, start, end) :\n",
    "    \"\"\"Plot selected data\"\"\"\n",
    "    plot_data(df.ix[start:end, columns])\n",
    "\n",
    "def normalize_data(df):\n",
    "    \"\"\"Normalize stock prices using the first row of the dataframe 'df'\"\"\"\n",
    "    return df / df.ix[0,:]\n",
    "\n",
    "def fill_missing_values(df):\n",
    "    \"\"\"Fill any gaps in the data, in place\"\"\"\n",
    "    df.fillna(method='ffill', inplace='TRUE')\n",
    "    return df.fillna(method='backfill', inplace='TRUE')\n",
    "\n",
    "def compute_daily_returns(df):\n",
    "    \"\"\"Compute and return the daily return values.\"\"\"\n",
    "    daily_returns = df.copy() # copy given DataFrame to match size and columns\n",
    "    # compute daily returns for row 1 onwards\n",
    "    daily_returns[1:] = (df[1:] / df[:-1].values)-1\n",
    "    daily_returns.ix[0, :] = 0 # set daily returns for row 0 to 0\n",
    "    return daily_returns\n",
    "\n",
    "def compute_cumulative_returns(df):\n",
    "    \"\"\"Compute and return the cumulative return\"\"\"\n",
    "    cumulative_returns = df.copy() # copy given DataFrame to match size and columns\n",
    "    # compute cumulative returns for row 1 onwards\n",
    "    cumulative_returns = ( df / df.ix[0,:] )-1\n",
    "    return cumulative_returns\n",
    "\n",
    "\n",
    "\n",
    "def test_run():\n",
    "    # Define a date range\n",
    "    dates = pd.date_range(\"2017-06-01\", \"2018-01-01\")\n",
    "\n",
    "    # Choose stock symbols to read\n",
    "    symbols = [\"IOT-USD\", \"ETH-USD\", \"XRP-USD\", \"LTC-USD\"] # SPY will be added in get_data()\n",
    "\n",
    "    # Get stock data\n",
    "    df = get_data(symbols, dates)\n",
    "    print (df)\n",
    "    plot_data(normalize_data(df))"
   ]
  },
  {
   "cell_type": "code",
   "execution_count": 16,
   "metadata": {},
   "outputs": [
    {
     "name": "stdout",
     "output_type": "stream",
     "text": [
      "                   SPY  IOT-USD     ETH-USD  XRP-USD     LTC-USD\n",
      "2017-12-04  264.140015     2.63  466.929993   0.2462  103.870003\n",
      "2017-12-05  263.190002     3.82  453.959991   0.2337  100.489998\n",
      "2017-12-06  263.239990     4.45  422.480011   0.2182   98.970001\n",
      "2017-12-07  264.070007     4.04  421.149994   0.2035   96.000000\n",
      "2017-12-08  265.510010     4.93  451.739990   0.2337  125.239998\n",
      "2017-12-11  266.309998     4.22  513.289978   0.2451  214.539993\n",
      "2017-12-12  266.779999     4.73  656.520020   0.3555  328.519989\n",
      "2017-12-13  266.750000     4.05  699.090027   0.4584  305.269989\n",
      "2017-12-14  265.660004     3.67  693.580017   0.8507  279.809998\n",
      "2017-12-15  266.510010     3.90  684.270020   0.7377  300.269989\n",
      "2017-12-18  268.200012     4.16  785.989990   0.7558  357.510010\n",
      "2017-12-19  267.170013     5.32  812.500000   0.7344  346.869995\n",
      "2017-12-20  267.029999     4.87  799.169983   0.7144  304.809998\n",
      "2017-12-21  267.579987     4.74  789.390015   1.1200  307.690002\n",
      "2017-12-22  267.510010     3.38  657.830017   1.0000  262.089996\n",
      "2017-12-26  267.190002     3.77  753.400024   1.0700  279.489990\n",
      "2017-12-27  267.320007     3.70  739.940002   1.2100  264.070007\n",
      "2017-12-28  267.869995     3.65  716.690002   1.2600  249.860001\n",
      "2017-12-29  266.859985     3.65  739.599976   1.9300  243.130005\n"
     ]
    },
    {
     "name": "stderr",
     "output_type": "stream",
     "text": [
      "/Users/yfe/miniconda3/envs/prototypage/lib/python3.6/site-packages/ipykernel_launcher.py:14: DeprecationWarning: \n",
      ".ix is deprecated. Please use\n",
      ".loc for label based indexing or\n",
      ".iloc for positional indexing\n",
      "\n",
      "See the documentation here:\n",
      "http://pandas.pydata.org/pandas-docs/stable/indexing.html#ix-indexer-is-deprecated\n",
      "  \n"
     ]
    },
    {
     "data": {
      "image/png": "[encoded data removed]",
      "text/plain": [
       "<matplotlib.figure.Figure at 0x107b65f60>"
      ]
     },
     "metadata": {},
     "output_type": "display_data"
    }
   ],
   "source": [
    "test_run()"
   ]
  },
  {
   "cell_type": "markdown",
   "metadata": {},
   "source": [
    "# Analysis "
   ]
  },
  {
   "cell_type": "code",
   "execution_count": 34,
   "metadata": {},
   "outputs": [],
   "source": [
    "class StockAllocationException(Exception):\n",
    "    pass\n",
    "\"\"\" \n",
    "- Read in adjusted closing prices for the equities.\n",
    "- Normalize the prices according to the first day. The first row for each stock should have a value of 1.0 at this point.\n",
    "- Multiply each column by the allocation to the corresponding equity.\n",
    "- Multiply these normalized allocations by starting value of overall portfolio, to get position values.\n",
    "- Sum each row (i.e. all position values for each day). That is your daily portfolio value.\n",
    "- Compute statistics from the total portfolio value.\n",
    "\"\"\"\n",
    "\n",
    "def assess_portfolio(sd=dt.datetime(2010,1,1), ed=dt.datetime(2009,1,1), \\\n",
    "    syms=['GOOG','AAPL','GLD','XOM'], \\\n",
    "    allocs=[0.1,0.2,0.3,0.4], \\\n",
    "    sv=1000000, rfr=0.0, sf=252.0, \\\n",
    "    gen_plot=False):\n",
    "\n",
    "    dates = pd.date_range(sd, ed)\n",
    "    prices = get_data(syms, dates, drop_ref=True)\n",
    "\n",
    "    cr, adr, sddr, sr = compute_portfolio_stats(prices, allocs, rfr, sf)\n",
    "    ev = (1.0 + cr) * sv\n",
    "    \n",
    "    \n",
    "    return cr, adr, sddr, sr, ev\n",
    "\n",
    "\n",
    "\"\"\"\n",
    "The input parameters are:\n",
    "    prices is a data frame or an ndarray of historical prices.\n",
    "    allocs: A list of allocations to the stocks, must sum to 1.0\n",
    "    rfr: The risk free return per sample period for the entire date range. We assume that it does not change.\n",
    "    sf: Sampling frequency per year\n",
    "The returned outputs are:\n",
    "    cr: Cumulative return\n",
    "    adr: Average daily return\n",
    "    sddr: Standard deviation of daily return\n",
    "    sr: Sharpe Ratio\n",
    "\"\"\"\n",
    "\n",
    "def compute_portfolio_stats(prices, allocs, rfr = 0.0, sf = 252.0):\n",
    "\n",
    "    # Verify that allocations to the stocks sum to 1.0\n",
    " #   if sum(allocs) != 1.0:\n",
    "#        raise StockAllocationException(\"Allocations to the stocks must sum to 1.0\")\n",
    "    \n",
    "    normed = normalize_data(prices)\n",
    "\n",
    "    alloced = normed.dot(allocs)\n",
    "    start_val = 1.0 # @todo parameter\n",
    "    port_val = pd.DataFrame({\"Portfolio\":alloced * start_val})\n",
    "\n",
    "    daily_returns = compute_daily_returns(port_val)\n",
    "    \n",
    "    cr = compute_cumulative_returns(port_val).values[-1][0]\n",
    "    adr = daily_returns.mean().values[0]\n",
    "    sddr = daily_returns.std().values[0]\n",
    "\n",
    "    daily_rf = pow(1.0+rfr ,1.0/sf)-1\n",
    "    \n",
    "    K = np.sqrt(sf)\n",
    "    sr = K * ((adr-daily_rf)/sddr) \n",
    "\n",
    "    return cr,adr,sddr,sr\n",
    "\n",
    "    \n",
    "def test_run():\n",
    "\n",
    "    start_date = dt.datetime(2017, 6, 1)\n",
    "    end_date = dt.datetime(2018, 1, 1)\n",
    "    symbols = [\"IOT-USD\", \"ETH-USD\", \"XRP-USD\", \"LTC-USD\"]\n",
    "    allocations =  [1.0, 0.0, 0.0, 0.0]\n",
    "\n",
    "    dates = pd.date_range(start_date, end_date)\n",
    "    \n",
    "    prices = get_data(symbols, dates, drop_ref=True)\n",
    "\n",
    "    cr, adr, sddr, sr, ev = assess_portfolio(start_date, end_date, symbols, allocations, sv=1000000, rfr=0.0, sf=252.0, gen_plot=False)\n",
    "    \n",
    "#    cr, adr, sddr, sr = \\\n",
    " #   compute_portfolio_stats(prices, allocations)\n",
    "\n",
    "    print (\"Sharpe Ratio: {}\".format(sr))\n",
    "    print (\"Volatility (stdev of daily returns): {}\".format(sddr))\n",
    "    print (\"Average Daily Return: {}\".format(adr))\n",
    "    print (\"Cumulative Return: {}\".format(cr))\n",
    "    print (\"Ending value of the portfolio: {}\".format(ev))\n",
    "    ### TODO foutre ca dans une fonction ###\n",
    "\n",
    "    normed = normalize_data(prices)\n",
    "\n",
    "    alloced = normed.dot(allocations)\n",
    "    start_val = 1.0 # @todo parameter\n",
    "    port_val = pd.DataFrame({\"Portfolio\":alloced * start_val})\n",
    "\n",
    "    plot_data(port_val.join(normalize_data(get_data([], dates))))\n",
    "    "
   ]
  },
  {
   "cell_type": "code",
   "execution_count": 35,
   "metadata": {},
   "outputs": [
    {
     "name": "stderr",
     "output_type": "stream",
     "text": [
      "/Users/yfe/miniconda3/envs/prototypage/lib/python3.6/site-packages/ipykernel_launcher.py:14: DeprecationWarning: \n",
      ".ix is deprecated. Please use\n",
      ".loc for label based indexing or\n",
      ".iloc for positional indexing\n",
      "\n",
      "See the documentation here:\n",
      "http://pandas.pydata.org/pandas-docs/stable/indexing.html#ix-indexer-is-deprecated\n",
      "  \n",
      "/Users/yfe/miniconda3/envs/prototypage/lib/python3.6/site-packages/ipykernel_launcher.py:26: DeprecationWarning: \n",
      ".ix is deprecated. Please use\n",
      ".loc for label based indexing or\n",
      ".iloc for positional indexing\n",
      "\n",
      "See the documentation here:\n",
      "http://pandas.pydata.org/pandas-docs/stable/indexing.html#ix-indexer-is-deprecated\n",
      "/Users/yfe/miniconda3/envs/prototypage/lib/python3.6/site-packages/ipykernel_launcher.py:33: DeprecationWarning: \n",
      ".ix is deprecated. Please use\n",
      ".loc for label based indexing or\n",
      ".iloc for positional indexing\n",
      "\n",
      "See the documentation here:\n",
      "http://pandas.pydata.org/pandas-docs/stable/indexing.html#ix-indexer-is-deprecated\n"
     ]
    },
    {
     "name": "stdout",
     "output_type": "stream",
     "text": [
      "Sharpe Ratio: 2.8245222783308486\n",
      "Volatility (stdev of daily returns): 0.170999767188704\n",
      "Average Daily Return: 0.030425677197626053\n",
      "Cumulative Return: 0.38783269961977185\n",
      "Ending value of the portfolio: 1387832.699619772\n"
     ]
    },
    {
     "data": {
      "image/png": "[encoded data removed]",
      "text/plain": [
       "<matplotlib.figure.Figure at 0x107dec6d8>"
      ]
     },
     "metadata": {},
     "output_type": "display_data"
    }
   ],
   "source": [
    "test_run()"
   ]
  },
  {
   "cell_type": "markdown",
   "metadata": {},
   "source": [
    "# Optimisation ma gueule"
   ]
  },
  {
   "cell_type": "code",
   "execution_count": 43,
   "metadata": {},
   "outputs": [],
   "source": [
    "\"\"\"\n",
    "Where the returned output is:\n",
    "    allocs: A 1-d Numpy ndarray of allocations to the stocks. All the allocations must be between 0.0 and 1.0 and they must sum to 1.0.\n",
    "    cr: Cumulative return\n",
    "    adr: Average daily return\n",
    "    sddr: Standard deviation of daily return\n",
    "    sr: Sharpe ratio\n",
    "The input parameters are:\n",
    "    sd: A datetime object that represents the start date\n",
    "    ed: A datetime object that represents the end date\n",
    "    syms: A list of symbols that make up the portfolio (note that your code should support any symbol in the data directory)\n",
    "    gen_plot: If True, create a plot named plot.png\n",
    "\"\"\"\n",
    "\n",
    "def optimize_portfolio(sd=dt.datetime(2010,1,1), ed=dt.datetime(2009,1,1), \\\n",
    "                       syms=['GOOG','AAPL','GLD','XOM'], gen_plot=False):\n",
    "\n",
    "    dates = pd.date_range(sd, ed)\n",
    "    prices = get_data(syms, dates, drop_ref=True)\n",
    "\n",
    "    cons = ({'type': 'eq', 'fun': lambda allocs: sum(allocs)-1.0})\n",
    "    bnds = [(0, 1.0) for _ in syms]\n",
    "\n",
    "    init_allocs = [1.0/len(syms) for _ in syms]\n",
    "    \n",
    "    best_allocs = spo.minimize( \n",
    "         lambda X: -compute_portfolio_stats(prices, X)[3], \n",
    "         x0=init_allocs, \n",
    "         method='SLSQP', \n",
    "         constraints=cons, \n",
    "         bounds=bnds, \n",
    "     options={'disp': True}\n",
    "    )    \n",
    "\n",
    "\n",
    "    cr, adr, sddr, sr = compute_portfolio_stats(prices, best_allocs.x)\n",
    "    return best_allocs.x, cr, adr, sddr, sr\n",
    "\n",
    "    \n",
    "\n",
    "\n",
    "def test_run():\n",
    "    start_date = dt.datetime(2017, 6, 1)\n",
    "    end_date = dt.datetime(2018, 1, 1)\n",
    "    symbols = [\"IOT-USD\", \"ETH-USD\", \"XRP-USD\", \"LTC-USD\"]\n",
    "\n",
    "    dates = pd.date_range(start_date, end_date)\n",
    "    \n",
    "    prices = get_data(symbols, dates, drop_ref=True)\n",
    "\n",
    "\n",
    "#    cr, adr, sddr, sr, ev = assess_portfolio(start_date, end_date, symbols, allocations, sv=1000000, rfr=0.0, sf=252.0, gen_plot=False)\n",
    "\n",
    "    allocs, cr, adr, sddr, sr = optimize_portfolio(start_date, end_date, symbols, False)\n",
    " \n",
    "\n",
    "    print (\"Start Date: {}\".format(start_date))\n",
    "    print (\"End Date: {}\".format(end_date))\n",
    "    print (\"Symbols: {}\".format(symbols))\n",
    "    print (\"Optimal allocations: {}\".format(allocs))\n",
    "    print (\"Sharpe Ratio: {}\".format(sr))\n",
    "    print (\"Volatility (stdev of daily returns): {}\".format(sddr))\n",
    "    print (\"Average Daily Return: {}\".format(adr))\n",
    "    print (\"Cumulative Return: {}\".format(cr))\n",
    "    ##print (\"Ending value of the portfolio: {}\".format(ev))\n",
    "    ### TODO foutre ca dans une fonction ###\n",
    "\n",
    "    normed = normalize_data(prices)\n",
    "\n",
    "    alloced = normed.dot(allocs)\n",
    "    start_val = 1.0 # @todo parameter\n",
    "    port_val = pd.DataFrame({\"Portfolio\":alloced * start_val})\n",
    "\n",
    "    plot_data(port_val.join(normalize_data(get_data([], dates))))\n",
    "    \n",
    "    "
   ]
  },
  {
   "cell_type": "code",
   "execution_count": 44,
   "metadata": {},
   "outputs": [
    {
     "name": "stderr",
     "output_type": "stream",
     "text": [
      "/Users/yfe/miniconda3/envs/prototypage/lib/python3.6/site-packages/ipykernel_launcher.py:14: DeprecationWarning: \n",
      ".ix is deprecated. Please use\n",
      ".loc for label based indexing or\n",
      ".iloc for positional indexing\n",
      "\n",
      "See the documentation here:\n",
      "http://pandas.pydata.org/pandas-docs/stable/indexing.html#ix-indexer-is-deprecated\n",
      "  \n",
      "/Users/yfe/miniconda3/envs/prototypage/lib/python3.6/site-packages/ipykernel_launcher.py:26: DeprecationWarning: \n",
      ".ix is deprecated. Please use\n",
      ".loc for label based indexing or\n",
      ".iloc for positional indexing\n",
      "\n",
      "See the documentation here:\n",
      "http://pandas.pydata.org/pandas-docs/stable/indexing.html#ix-indexer-is-deprecated\n",
      "/Users/yfe/miniconda3/envs/prototypage/lib/python3.6/site-packages/ipykernel_launcher.py:33: DeprecationWarning: \n",
      ".ix is deprecated. Please use\n",
      ".loc for label based indexing or\n",
      ".iloc for positional indexing\n",
      "\n",
      "See the documentation here:\n",
      "http://pandas.pydata.org/pandas-docs/stable/indexing.html#ix-indexer-is-deprecated\n"
     ]
    },
    {
     "name": "stdout",
     "output_type": "stream",
     "text": [
      "Optimization terminated successfully.    (Exit mode 0)\n",
      "            Current function value: -9.784789658153414\n",
      "            Iterations: 6\n",
      "            Function evaluations: 39\n",
      "            Gradient evaluations: 6\n",
      "Start Date: 2017-06-01 00:00:00\n",
      "End Date: 2018-01-01 00:00:00\n",
      "Symbols: ['IOT-USD', 'ETH-USD', 'XRP-USD', 'LTC-USD']\n",
      "Optimal allocations: [  3.12261347e-01   4.39101880e-17   4.35170694e-01   2.52567960e-01]\n",
      "Sharpe Ratio: 9.784789658153414\n",
      "Volatility (stdev of daily returns): 0.1470915199572114\n",
      "Average Daily Return: 0.09066483165294568\n",
      "Cumulative Return: 3.435926539158171\n"
     ]
    },
    {
     "data": {
      "image/png": "[encoded data removed]",
      "text/plain": [
       "<matplotlib.figure.Figure at 0x108473d68>"
      ]
     },
     "metadata": {},
     "output_type": "display_data"
    }
   ],
   "source": [
    "test_run()"
   ]
  },
  {
   "cell_type": "code",
   "execution_count": null,
   "metadata": {},
   "outputs": [],
   "source": []
  }
 ],
 "metadata": {
  "kernelspec": {
   "display_name": "Python 3",
   "language": "python",
   "name": "python3"
  },
  "language_info": {
   "codemirror_mode": {
    "name": "ipython",
    "version": 3
   },
   "file_extension": ".py",
   "mimetype": "text/x-python",
   "name": "python",
   "nbconvert_exporter": "python",
   "pygments_lexer": "ipython3",
   "version": "3.6.2"
  }
 },
 "nbformat": 4,
 "nbformat_minor": 2
}
